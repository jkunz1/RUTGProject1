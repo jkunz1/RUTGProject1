{
 "cells": [
  {
   "cell_type": "code",
   "execution_count": 1,
   "metadata": {},
   "outputs": [],
   "source": [
    "import pandas as pd\n"
   ]
  },
  {
   "cell_type": "code",
   "execution_count": 5,
   "metadata": {},
   "outputs": [
    {
     "data": {
      "text/plain": [
       "APN                                    int64\n",
       "RegisteredDate                        object\n",
       "PropertyType                          object\n",
       "PropertyAddress                       object\n",
       "PropertyCity                          object\n",
       "PropertyState                         object\n",
       "PropertyZip                            int64\n",
       "CouncilDistrict                        int64\n",
       "Lender                                object\n",
       "LenderContact                         object\n",
       "LenderContactPhone                    object\n",
       "PropertyManagement                    object\n",
       "PropertyManagementContact             object\n",
       "PropertyManagementAddress             object\n",
       "PropertyMgmtContactPhone              object\n",
       "Neighborhood Councils (Certified)    float64\n",
       "LA Specific Plans                    float64\n",
       "Precinct Boundaries                  float64\n",
       "Council Districts                    float64\n",
       "Census Tracts                        float64\n",
       "Zip Codes                            float64\n",
       "dtype: object"
      ]
     },
     "execution_count": 5,
     "metadata": {},
     "output_type": "execute_result"
    }
   ],
   "source": [
    "csv_path = \"../Source/ForeclosureData/2016_Registered_Foreclosure_Properties.csv\"\n",
    "forcls_df = pd.read_csv(csv_path)\n",
    "forcls_df.dtypes\n",
    "forcls_df['Zip Codes'] = forcls_df."
   ]
  },
  {
   "cell_type": "code",
   "execution_count": null,
   "metadata": {},
   "outputs": [],
   "source": []
  }
 ],
 "metadata": {
  "kernelspec": {
   "display_name": "Python 3",
   "language": "python",
   "name": "python3"
  },
  "language_info": {
   "codemirror_mode": {
    "name": "ipython",
    "version": 3
   },
   "file_extension": ".py",
   "mimetype": "text/x-python",
   "name": "python",
   "nbconvert_exporter": "python",
   "pygments_lexer": "ipython3",
   "version": "3.7.3"
  }
 },
 "nbformat": 4,
 "nbformat_minor": 2
}
